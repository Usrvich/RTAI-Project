{
 "cells": [
  {
   "cell_type": "code",
   "execution_count": 5,
   "id": "initial_id",
   "metadata": {
    "collapsed": true,
    "ExecuteTime": {
     "end_time": "2023-12-14T15:52:59.932873700Z",
     "start_time": "2023-12-14T15:52:59.894197200Z"
    }
   },
   "outputs": [],
   "source": [
    "import numpy as np\n",
    "import torch\n",
    "import torch.nn as nn"
   ]
  },
  {
   "cell_type": "code",
   "execution_count": 6,
   "outputs": [
    {
     "name": "stdout",
     "output_type": "stream",
     "text": [
      "Checking conv_1 with ../test_cases/conv_1/img4_mnist_0.1241.txt\n",
      "Sequential(\n",
      "  (0): Conv2d(1, 16, kernel_size=(3, 3), stride=(2, 2), padding=(1, 1))\n",
      "  (1): ReLU()\n",
      "  (2): Flatten(start_dim=1, end_dim=-1)\n",
      "  (3): Linear(in_features=3136, out_features=100, bias=True)\n",
      "  (4): ReLU()\n",
      "  (5): Linear(in_features=100, out_features=10, bias=True)\n",
      "  (6): ReLU()\n",
      "  (7): Linear(in_features=10, out_features=10, bias=True)\n",
      ")\n"
     ]
    }
   ],
   "source": [
    "import os\n",
    "from utils.loading import parse_spec\n",
    "from networks import get_network\n",
    "from verifier import analyze\n",
    "\n",
    "# This script checks a specified network and spec in the test_cases folder\n",
    "# It compares the predicted status with the gt.txt file and prints the inconsistencies\n",
    "\n",
    "\n",
    "# define which net and spec to check\n",
    "net_name = \"conv_1\"\n",
    "spec_idx = 1\n",
    "\n",
    "DEVICE = \"cpu\"\n",
    "# networks = [\"fc_base\", \"fc_1\", \"fc_2\", \"fc_3\", \"fc_4\", \"fc_5\", \"fc_6\", \"fc_7\", \"conv_base\", \"conv_1\", \"conv_2\", \"conv_3\", \"conv_4\"]\n",
    "networks = [\"fc_1\", \"fc_2\", \"fc_3\", \"fc_4\", \"fc_5\", \"fc_6\", \"fc_7\", \"conv_1\", \"conv_2\", \"conv_3\", \"conv_4\"]\n",
    "folder = \"test_cases\"\n",
    "folder_2 = \"preliminary_evaluation_test_cases\"\n",
    "\n",
    "\n",
    "\n",
    "assert net_name in networks, f\"Network {net_name} not found in {networks}\"\n",
    "\n",
    "# List specification files with path under each network folder\n",
    "spec_files = os.listdir(f\"../{folder}/{net_name}\")\n",
    "spec_files = np.sort([f\"../{folder}/{net_name}/{spec}\" for spec in spec_files])\n",
    "\n",
    "spec = spec_files[spec_idx]\n",
    "\n",
    "true_label, dataset, image, eps = parse_spec(spec)\n",
    "\n",
    "net = get_network(net_name, dataset, f\"../models/{dataset}_{net_name}.pt\").to(DEVICE)\n",
    "\n",
    "print(f\"Checking {net_name} with {spec}\")\n",
    "print(net)"
   ],
   "metadata": {
    "collapsed": false,
    "ExecuteTime": {
     "end_time": "2023-12-14T15:52:59.946872900Z",
     "start_time": "2023-12-14T15:52:59.918878700Z"
    }
   },
   "id": "1c75a1572bf5217c"
  },
  {
   "cell_type": "code",
   "execution_count": 6,
   "outputs": [],
   "source": [],
   "metadata": {
    "collapsed": false,
    "ExecuteTime": {
     "end_time": "2023-12-14T15:52:59.982062300Z",
     "start_time": "2023-12-14T15:52:59.943872900Z"
    }
   },
   "id": "e2f3293b3772a9cf"
  }
 ],
 "metadata": {
  "kernelspec": {
   "display_name": "Python 3",
   "language": "python",
   "name": "python3"
  },
  "language_info": {
   "codemirror_mode": {
    "name": "ipython",
    "version": 2
   },
   "file_extension": ".py",
   "mimetype": "text/x-python",
   "name": "python",
   "nbconvert_exporter": "python",
   "pygments_lexer": "ipython2",
   "version": "2.7.6"
  }
 },
 "nbformat": 4,
 "nbformat_minor": 5
}
